{
 "cells": [
  {
   "cell_type": "markdown",
   "metadata": {
    "deletable": true,
    "editable": true
   },
   "source": [
    "# Forecasting Emergency Events in Seattle\n",
    "\n",
    "Welcome to my capstone project for [The Data Incubator](https://www.thedataincubator.com/)!\n",
    "\n",
    "This project aims to use [real-time data](https://data.seattle.gov/Public-Safety/Seattle-Real-Time-Fire-911-Calls/kzjm-xkqj) provided by the [Seattle Fire Department](http://www.seattle.gov/fire/) to forecast upcoming \"hotspots\" (areas of high spatial intensity) for emergency calls (separately for fire and medical).\n",
    "\n",
    "In the background, I'll make use of Random Fourier Feature Expansions of [Gaussian Process Priors](http://www.gaussianprocess.org/gpml/) to model the observed spatiotemporal point processes as deriving from a latent [Poisson intensity surface](https://en.wikipedia.org/wiki/Poisson_point_process); the brunt of the work is in discovering optimal hyperparameters for this meta-model.\n",
    "\n",
    "My tool set is [R](https://cran.r-project.org/), especially [`data.table`](https://github.com/Rdatatable/data.table) for high-performance data manipulation, [`splancs`](https://cran.r-project.org/web/packages/splancs/index.html) for high-performance two-dimensional kernel density estimation, and [`spatstat`](http://spatstat.org/) for high-performance geospatial aggregation; and [`Vowpal Wabbit (VW)`](http://hunch.net/~vw/) for ultra-high-performance large-scale machine-learned Poisson regression.\n",
    "\n",
    "This project is inspired by work forecasting crime hotspots in Portland for the [NIJ Real-Time Forecasting Challenge](https://www.nij.gov/funding/Pages/fy16-crime-forecasting-challenge.aspx), code for which is stored [here](https://github.com/MichaelChirico/portland)."
   ]
  },
  {
   "cell_type": "code",
   "execution_count": 1,
   "metadata": {
    "collapsed": true,
    "deletable": true,
    "editable": true
   },
   "outputs": [],
   "source": [
    "library(data.table)"
   ]
  }
 ],
 "metadata": {
  "kernelspec": {
   "display_name": "R",
   "language": "R",
   "name": "ir"
  },
  "language_info": {
   "codemirror_mode": "r",
   "file_extension": ".r",
   "mimetype": "text/x-r-source",
   "name": "R",
   "pygments_lexer": "r",
   "version": "3.4.0"
  }
 },
 "nbformat": 4,
 "nbformat_minor": 2
}
